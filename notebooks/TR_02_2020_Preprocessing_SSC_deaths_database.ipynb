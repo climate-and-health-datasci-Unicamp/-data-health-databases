{
  "nbformat": 4,
  "nbformat_minor": 0,
  "metadata": {
    "colab": {
      "name": "TR 02/2020 - Preprocessing SSC deaths database.ipynb",
      "provenance": [],
      "collapsed_sections": []
    },
    "kernelspec": {
      "name": "python3",
      "display_name": "Python 3"
    }
  },
  "cells": [
    {
      "cell_type": "markdown",
      "metadata": {
        "id": "_AI_B3bcgdGC"
      },
      "source": [
        "# **TR-02/2020 - Technical report: Preprocessing SSC deaths database**\n",
        "\n",
        "|Technical Report ID  |2020/02|\n",
        "|--|--|\n",
        "| Title |Preprocessing of SSC Hospitalization Database|\n",
        "| Authors | Júlia De Lázari, Paula Dornhofer|\n",
        "| Creation Date| 2020 - 10|\n",
        "\n",
        "\n",
        "## Database Description\n",
        "\n",
        "The deaths databases are from SSC (Health Secretay of Campinas - Secretaria de Saúde de Campinas). They contain data from 2000 to 2018 of all deaths from Campinas, divided in two files, one from 2000 until 2007, and other for 2008 until 2019.\n",
        "\n",
        "The first database contains 60640 rows and 83 columns. The second database contains 111863 rows and 139 columns.\n",
        "\n",
        "This report presents an exploratory analysis of the database and its variables. Some problems and inconsistences were found and attempts to solve them were made, in order to increase the quality of the data.\n",
        "\n",
        "\n",
        "## RAW Database Diagnostic\n",
        "\n",
        "\n",
        "The exploratory analysis revelead that this database has inconsistences such as duplicated rows, rows with missing names, rows with missing birthdates, rows from outside Campinas. This report details all the analysis made, as well as the data processing.\n",
        "\n",
        "## Results\n",
        "\n",
        "As a result, a csv with the two databases merged was generated and three subsets of this:\n",
        "\n",
        "- obitos_2000_2019.csv: csv with the two databases merged\n",
        "\n",
        "- obitos_completo.csv: databse with deaths from all causes, excluding child and fetal deaths, rows with \"number of death\" repeated, rows with name and parents name repeated, rows without a birthdate, rows with birthdate equal to death data and rows with sex as ignored ('I'). Only relevant columns were preserved.  Columns that can identify the patient were drop due to confidentiality reasons.\n",
        "\n",
        "- obitos_circulatorio: subset of obitos_completo.csv, with only deaths with circulatory ICDs (I00-I99).\n",
        "\n",
        "- obitos_respiratório: subset of obitos_completo.csv, with only deaths with respiratory ICDs (J00-J99)."
      ]
    },
    {
      "cell_type": "markdown",
      "metadata": {
        "id": "LCjK_ain6IdW"
      },
      "source": [
        "## Load and merge databases"
      ]
    },
    {
      "cell_type": "code",
      "metadata": {
        "id": "5Oo71bOZmKAa",
        "colab": {
          "base_uri": "https://localhost:8080/"
        },
        "outputId": "ec4351ba-abd8-4ded-f873-7508173839a2"
      },
      "source": [
        "#-------------------------------------------------------------------#\n",
        "#                       Import libraries                            #\n",
        "#-------------------------------------------------------------------#\n",
        "import pandas as pd\n",
        "import numpy as np\n",
        "import datetime as dt\n",
        "import matplotlib.pyplot as plt\n",
        "from google.colab import drive\n",
        "from google.colab import files\n",
        "drive.mount('/content/drive')\n",
        "\n",
        "pd.options.mode.chained_assignment = None "
      ],
      "execution_count": 1,
      "outputs": [
        {
          "output_type": "stream",
          "text": [
            "Mounted at /content/drive\n"
          ],
          "name": "stdout"
        }
      ]
    },
    {
      "cell_type": "code",
      "metadata": {
        "id": "dib3350bl50Q"
      },
      "source": [
        "#-------------------------------------------------------------------#\n",
        "#                        Load dataframes                            #\n",
        "#-------------------------------------------------------------------#\n",
        "#load xslx with database (deaths from 2008 to 2019)\n",
        "df_obitos1 = pd.read_excel('obitos2008-2019_completo.xlsx')\n",
        "#load xslx with database (deaths from 2000 to 2007)\n",
        "df_obitos2 = pd.read_excel('obitos2000-2007_completo.xlsx')"
      ],
      "execution_count": null,
      "outputs": []
    },
    {
      "cell_type": "markdown",
      "metadata": {
        "id": "KJRIGNPKOBof"
      },
      "source": [
        "Merge database from 2000 to 2007 with database from 2008 to 2019."
      ]
    },
    {
      "cell_type": "code",
      "metadata": {
        "id": "l6As8G_fMjng"
      },
      "source": [
        "df_obitos = pd.concat([df_obitos1, df_obitos2])"
      ],
      "execution_count": null,
      "outputs": []
    },
    {
      "cell_type": "markdown",
      "metadata": {
        "id": "o7FtezRbTCJa"
      },
      "source": [
        "Percentage of filled values in each column"
      ]
    },
    {
      "cell_type": "code",
      "metadata": {
        "id": "fwXB3dPqSn5-",
        "colab": {
          "base_uri": "https://localhost:8080/"
        },
        "outputId": "376c755e-67f8-439c-f332-b337ae4cd339"
      },
      "source": [
        "lista_colunas = df_obitos.columns\n",
        "\n",
        "#% of values that aren't null (NaN) in each column\n",
        "for coluna in lista_colunas:\n",
        "  print(f\"{coluna}:\", round(len(df_obitos[~df_obitos[f'{coluna}'].isnull()])/len(df_obitos[f'{coluna}'])*100,2),\"%\")"
      ],
      "execution_count": null,
      "outputs": [
        {
          "output_type": "stream",
          "text": [
            "NUMERODO: 100.0 %\n",
            "NUMERODV: 61.6 %\n",
            "CODESTCART: 0.51 %\n",
            "CODMUNCART: 0.71 %\n",
            "CODCART: 0.6 %\n",
            "NUMREGCART: 0.54 %\n",
            "DTREGCART: 0.55 %\n",
            "TIPOBITO: 100.0 %\n",
            "DTOBITO: 100.0 %\n",
            "HORAOBITO: 97.78 %\n",
            "NUMSUS: 3.64 %\n",
            "NATURAL: 53.56 %\n",
            "CODMUNNATU: 45.38 %\n",
            "NOME: 100.0 %\n",
            "NOMEPAI: 99.76 %\n",
            "NOMEMAE: 99.96 %\n",
            "DTNASC: 98.04 %\n",
            "IDADE: 97.8 %\n",
            "SEXO: 100.0 %\n",
            "RACACOR: 95.74 %\n",
            "ESTCIV: 91.57 %\n",
            "ESC: 48.98 %\n",
            "ESC2010: 33.54 %\n",
            "SERIESCFAL: 3.48 %\n",
            "OCUP: 88.81 %\n",
            "CODESTRES: 64.84 %\n",
            "CODMUNRES: 100.0 %\n",
            "BAIRES: 76.25 %\n",
            "CODBAIRES: 75.24 %\n",
            "CODENDRES: 0.03 %\n",
            "ENDRES: 99.86 %\n",
            "CODREGRES: 64.84 %\n",
            "NUMRES: 98.35 %\n",
            "COMPLRES: 98.4 %\n",
            "CEPRES: 41.36 %\n",
            "CODDISRES: 48.3 %\n",
            "CODPAISRES: 64.65 %\n",
            "LOCOCOR: 100.0 %\n",
            "CODESTAB: 80.83 %\n",
            "CODESTOCOR: 64.85 %\n",
            "CODMUNOCOR: 100.0 %\n",
            "BAIOCOR: 72.06 %\n",
            "CODBAIOCOR: 11.18 %\n",
            "ENDOCOR: 79.86 %\n",
            "CODENDOCOR: 0.02 %\n",
            "CODREGOCOR: 64.85 %\n",
            "NUMENDOCOR: 79.43 %\n",
            "COMPLOCOR: 4.32 %\n",
            "CEPOCOR: 16.55 %\n",
            "CODDISOCOR: 9.74 %\n",
            "IDADEMAE: 4.53 %\n",
            "ESCMAE: 3.75 %\n",
            "ESCMAE2010: 1.7 %\n",
            "SERIESCMAE: 0.62 %\n",
            "OCUPMAE: 4.0 %\n",
            "QTDFILVIVO: 3.66 %\n",
            "QTDFILMORT: 3.86 %\n",
            "GRAVIDEZ: 4.68 %\n",
            "SEMAGESTAC: 1.85 %\n",
            "GESTACAO: 4.77 %\n",
            "PARTO: 4.55 %\n",
            "OBITOPARTO: 4.82 %\n",
            "PESO: 4.6 %\n",
            "NUMERODN: 2.44 %\n",
            "TPMORTEOCO: 4.83 %\n",
            "OBITOGRAV: 4.97 %\n",
            "OBITOPUERP: 4.95 %\n",
            "ASSISTMED: 72.75 %\n",
            "EXAME: 36.89 %\n",
            "CIRURGIA: 36.43 %\n",
            "NECROPSIA: 84.96 %\n",
            "LINHAA: 99.55 %\n",
            "LINHAB: 87.83 %\n",
            "LINHAC: 56.71 %\n",
            "LINHAD: 22.86 %\n",
            "LINHAII: 48.12 %\n",
            "DSTEMPO: 64.85 %\n",
            "CAUSABAS: 100.0 %\n",
            "DSEXPLICA: 54.52 %\n",
            "MEDICO: 25.63 %\n",
            "CRM: 99.88 %\n",
            "TPASSINA: 0.0 %\n",
            "COMUNSVOIM: 11.37 %\n",
            "CONTATO: 93.01 %\n",
            "DTATESTADO: 99.36 %\n",
            "CIRCOBITO: 10.14 %\n",
            "ACIDTRAB: 3.27 %\n",
            "FONTE: 7.41 %\n",
            "DSEVENTO: 5.48 %\n",
            "ENDACID: 9.07 %\n",
            "NUMEROLOTE: 99.92 %\n",
            "TPPOS: 62.56 %\n",
            "DTINVESTIG: 5.87 %\n",
            "LINHAA_O: 64.55 %\n",
            "LINHAB_O: 56.68 %\n",
            "LINHAC_O: 35.96 %\n",
            "LINHAD_O: 14.54 %\n",
            "LINHAII_O: 32.76 %\n",
            "CAUSABAS_O: 64.85 %\n",
            "DTCADASTRO: 64.82 %\n",
            "ATESTANTE: 97.05 %\n",
            "DESCACID: 3.42 %\n",
            "CODENDACID: 0.0 %\n",
            "NUMENDACID: 2.82 %\n",
            "COMPLACID: 3.08 %\n",
            "CEPACID: 0.0 %\n",
            "CONFPESO: 0.15 %\n",
            "CONFIDADE: 0.05 %\n",
            "CONFCAUSA: 0.28 %\n",
            "CONFCIDADE: 0.32 %\n",
            "CRITICA: 25.6 %\n",
            "CODINST: 100.0 %\n",
            "STCODIFICA: 64.85 %\n",
            "CODIFICADO: 64.85 %\n",
            "VERSAOSIST: 64.83 %\n",
            "VERSAOSCB: 62.3 %\n",
            "RETROALIM: 64.85 %\n",
            "FONTEINV: 6.49 %\n",
            "DTRECEBIM: 0.0 %\n",
            "ATESTADO: 0.0 %\n",
            "CAUSABAS_R: 0.0 %\n",
            "DTRESSELE: 0.0 %\n",
            "STRESSELE: 0.0 %\n",
            "EXPLICA_R: 0.0 %\n",
            "VRSRESSELE: 0.0 %\n",
            "COMPARA_CB: 0.0 %\n",
            "NRESSELE: 0.0 %\n",
            "CB_PRE: 0.0 %\n",
            "NPROC: 0.0 %\n",
            "DIFDATA: 0.0 %\n",
            "VERSCBPRE: 0.0 %\n",
            "DTRECORIG: 0.0 %\n",
            "CAUSAMAT: 0.0 %\n",
            "ESCMAEAGR1: 1.66 %\n",
            "ESCMAEAGR2: 1.66 %\n",
            "ESCFALAGR1: 32.08 %\n",
            "ESCFALAGR2: 32.08 %\n",
            "STDOEPIDEM: 64.85 %\n",
            "STDONOVA: 64.85 %\n",
            "REGRA: 25.6 %\n"
          ],
          "name": "stdout"
        }
      ]
    },
    {
      "cell_type": "code",
      "metadata": {
        "id": "9HjjsRL7LBGO"
      },
      "source": [
        "# Save data (2000-2019)\n",
        "df_obitos.to_csv('obitos_2000_2019.csv')"
      ],
      "execution_count": null,
      "outputs": []
    },
    {
      "cell_type": "markdown",
      "metadata": {
        "id": "S2p5fVpukQG3"
      },
      "source": [
        "## Drop columns\n",
        "\n",
        "Drop columns identified as \"not used by SSC\" and that do not appear in the variable dictionary."
      ]
    },
    {
      "cell_type": "code",
      "metadata": {
        "id": "42DCMUzdquT4",
        "colab": {
          "base_uri": "https://localhost:8080/"
        },
        "outputId": "f30e1de8-21bb-46bf-a34f-2a0037a2482b"
      },
      "source": [
        "# Load obitos_2000_2019.csv\n",
        "df_obitos = pd.read_csv('/content/drive/Shared drives/Clima&Saúde/Dados/Dados_Saude/Obitos_SSC/data/interim/obitos_2000_2019.csv')"
      ],
      "execution_count": 2,
      "outputs": [
        {
          "output_type": "stream",
          "text": [
            "/usr/local/lib/python3.7/dist-packages/IPython/core/interactiveshell.py:2718: DtypeWarning: Columns (3,10,33,35,42,47,77,79,81,84,89,92,94,95,96,97,98,99,102,105,107,108,109,110,111,113,114,115,117,133,140) have mixed types.Specify dtype option on import or set low_memory=False.\n",
            "  interactivity=interactivity, compiler=compiler, result=result)\n"
          ],
          "name": "stderr"
        }
      ]
    },
    {
      "cell_type": "code",
      "metadata": {
        "id": "z5YEqVgUkZqU"
      },
      "source": [
        "# drop columns\n",
        "df_obitos = df_obitos.drop(columns = {'Unnamed: 0','CONFPESO', 'CONFIDADE', 'CONFCAUSA', 'CONFCIDADE', 'CRITICA', 'NUMEROLOTE', 'CODINST',\n",
        "                           'CODCART', 'NUMREGCART', 'DTREGCART', 'CODMUNCART', 'CB_PRE', 'NPROC', 'DIFDATA', 'VERSCBPRE',\n",
        "                           'DTRECORIG', 'CAUSAMAT', 'ESCMAEAGR1', 'ESCMAEAGR2', 'ESCFALAGR1', 'ESCFALAGR2', 'STDOEPIDEM',\n",
        "                           'STDONOVA', 'STCODIFICA', 'CODIFICADO', 'VERSAOSIST', 'VERSAOSCB', 'RETROALIM', 'FONTEINV', \n",
        "                           'DTRECEBIM', 'ATESTADO', 'CAUSABAS_R', 'DTRESSELE', 'STRESSELE', 'EXPLICA_R', 'VRSRESSELE',\n",
        "                           'COMPARA_CB', 'NRESSELE', 'TPPOS', 'DTINVESTIG', 'LINHAA_O', 'LINHAB_O', 'LINHAC_O', 'LINHAD_O',\n",
        "                           'LINHAII_O', 'CAUSABAS_O', 'DTCADASTRO', 'DSTEMPO', 'TPMORTEOCO', 'NUMERODV', 'CODESTCART', 'CODMUNNATU',\n",
        "                           'SERIESCFAL', 'DSEXPLICA', 'TPASSINA', 'COMUNSVOIM', 'DSEVENTO'})"
      ],
      "execution_count": 3,
      "outputs": []
    },
    {
      "cell_type": "markdown",
      "metadata": {
        "id": "F3ckM1Gyk1Eo"
      },
      "source": [
        "## Information related to the death\n"
      ]
    },
    {
      "cell_type": "markdown",
      "metadata": {
        "id": "tpQiKoCGmCYa"
      },
      "source": [
        "###NUMERODO\n",
        "\n",
        "Number of death, sequential per informant UF (federative unit - state) and year.\n",
        "\n",
        "Should contain only unique values (each person should have a different number of death).\n",
        "\n",
        "**Problems:**\n",
        "- Duplicity of register: rows with repeated number of death, name, parents name and date, but different adress or with differences on the data from other columns (mainly filled columns in one occurence and not filled in the other)\n",
        "- Typing error: rows with repeated number of death but different names\n",
        "- Problem in the register: rows with repeated number of death, name, parents name, but different date or time of death\n",
        "- Erro de digitação: código repetido mas nomes diferentes\n",
        "\n",
        "**Adopted solution**\n",
        "- Delete these rows (14 in 172503)"
      ]
    },
    {
      "cell_type": "code",
      "metadata": {
        "id": "L-iyUvVNk3uv",
        "colab": {
          "base_uri": "https://localhost:8080/"
        },
        "outputId": "3b2ef541-a8c0-45c7-929e-1f0568ee4d09"
      },
      "source": [
        "#check for duplicated rows in dataframe\n",
        "print(\"Rows with all columns duplicated:\", len(df_obitos[df_obitos.duplicated(keep=False)]))\n",
        "\n",
        "#duplicated values for NUMERODO\n",
        "print(\"Number of rows with NUMERODO duplicated:\",len(df_obitos[df_obitos.duplicated(['NUMERODO'],keep=False)]))\n",
        "\n",
        "df_obitos = df_obitos.drop_duplicates(['NUMERODO'],keep=False)"
      ],
      "execution_count": 4,
      "outputs": [
        {
          "output_type": "stream",
          "text": [
            "Rows with all columns duplicated: 0\n",
            "Number of rows with NUMERODO duplicated: 14\n"
          ],
          "name": "stdout"
        }
      ]
    },
    {
      "cell_type": "markdown",
      "metadata": {
        "id": "y3Uzis7tqtiJ"
      },
      "source": [
        "### TIPOBITO\n",
        "\n",
        "Type of death. Binary column:\n",
        "\n",
        "- 1 - fetal death\n",
        "- 2 - non fetal death\n",
        "\n",
        "Only non fetal deaths (type 2) were kept, due to the intended analysis.\n"
      ]
    },
    {
      "cell_type": "code",
      "metadata": {
        "id": "tZmR0xHfq6vW",
        "colab": {
          "base_uri": "https://localhost:8080/"
        },
        "outputId": "c3764e7d-d9b3-4834-f02e-afb5b2c350c3"
      },
      "source": [
        "#check if column has any value different from 1 or 2\n",
        "#print(df_obitos[(df_obitos['TIPOBITO']!=1) & (df_obitos['TIPOBITO']!=2)])\n",
        "\n",
        "#drop rows with TIPOBITO == 1\n",
        "print(\"Number of rows refering to fetal deaths:\",len(df_obitos[df_obitos['TIPOBITO']==1]))\n",
        "df_obitos = df_obitos[df_obitos['TIPOBITO']==2]"
      ],
      "execution_count": 5,
      "outputs": [
        {
          "output_type": "stream",
          "text": [
            "Number of rows refering to fetal deaths: 3745\n"
          ],
          "name": "stdout"
        }
      ]
    },
    {
      "cell_type": "markdown",
      "metadata": {
        "id": "PKiEuzDTs8QR"
      },
      "source": [
        "### DTOBITO e HORAOBITO\n",
        "\n",
        "Date of death (DTOBITO) was in the ddmmyyy format. It was converted to %Y-%m-%d.\n",
        "\n",
        "Time of death (HORAOBITO) was in the hhmm format. It was converted to%H:%M."
      ]
    },
    {
      "cell_type": "code",
      "metadata": {
        "id": "mAwvWwBptGuT"
      },
      "source": [
        "# add 0 in the strings with only seven digits\n",
        "df_obitos['DTOBITO'] = df_obitos['DTOBITO'].astype(str)\n",
        "df_obitos['DTOBITO'] = df_obitos['DTOBITO'].map(lambda s: \"0\" + s if len(s)==7 else s)\n",
        "\n",
        "# date to '%Y-%m-%d' format\n",
        "df_obitos.loc[:,'DTOBITO'] = pd.to_datetime(df_obitos.loc[:,'DTOBITO'],format = '%d%m%Y',dayfirst=True,errors='coerce').dt.strftime('%Y-%m-%d')\n",
        "\n",
        "# hour to '%H:%M' format\n",
        "df_obitos['HORAOBITO'] = df_obitos['HORAOBITO'].astype(str)\n",
        "df_obitos['HORAOBITO'] = df_obitos['HORAOBITO'].map(lambda s: s[:-2] if len(s)>=5 else s)\n",
        "df_obitos['HORAOBITO'] = df_obitos['HORAOBITO'].map(lambda s: \"0\" + s if len(s)==3 else s)"
      ],
      "execution_count": 6,
      "outputs": []
    },
    {
      "cell_type": "markdown",
      "metadata": {
        "id": "1uYwY3i5EKIC"
      },
      "source": [
        "Deaths per year, 2000 has an unusual lower number."
      ]
    },
    {
      "cell_type": "code",
      "metadata": {
        "colab": {
          "base_uri": "https://localhost:8080/",
          "height": 481
        },
        "id": "IEeV7TGFEI2E",
        "outputId": "5e8c814a-cd84-44e5-eb1d-6379942a9774"
      },
      "source": [
        "#-------------------------------------------------------------------#\n",
        "#                          Deaths per year                          #\n",
        "#-------------------------------------------------------------------#\n",
        "\n",
        "#get absolute value of deaths per year\n",
        "df_obitos['DTOBITO'] = pd.to_datetime(df_obitos['DTOBITO'])\n",
        "year = pd.DataFrame(df_obitos['DTOBITO'].dt.strftime('%Y').value_counts())\n",
        "year = year.reset_index()\n",
        "year = year.sort_values(by=['index'])\n",
        "year = year.rename(columns={'index':'Year','DTOBITO':'Count'})\n",
        "\n",
        "#plot\n",
        "plt.figure(figsize = (14,7))\n",
        "plt.bar(year['Year'],year['Count'])\n",
        "plt.xlabel('Year',fontsize = 15)\n",
        "plt.ylabel('Number of deaths',fontsize = 15)\n",
        "plt.title('Deaths per year',fontsize=18)\n",
        "plt.xticks(fontsize = 13, rotation = 20)\n",
        "plt.yticks(fontsize = 13)\n",
        "plt.show()"
      ],
      "execution_count": 7,
      "outputs": [
        {
          "output_type": "display_data",
          "data": {
            "image/png": "[encoded data removed]",
            "text/plain": [
              "<Figure size 1008x504 with 1 Axes>"
            ]
          },
          "metadata": {
            "tags": [],
            "needs_background": "light"
          }
        }
      ]
    },
    {
      "cell_type": "markdown",
      "metadata": {
        "id": "YIIsG94B3iW8"
      },
      "source": [
        "### Local do óbito\n",
        "LOCOCOR, CODESTAB, ENDOCOR, CODENDOCOR, NUMENDOCOR, COMPLOCOR, CEPOCOR, BAIOCOR, CODBAIOCOR, CODMUNOCOR are columns with information refering to the place where the death occured.\n",
        "\n"
      ]
    },
    {
      "cell_type": "code",
      "metadata": {
        "id": "BaPG8C1c4BEU",
        "colab": {
          "base_uri": "https://localhost:8080/"
        },
        "outputId": "dbf0df19-bb0b-4027-dfb7-ed73c69e4dbc"
      },
      "source": [
        "lista_colunas = ['LOCOCOR', 'CODESTAB', 'ENDOCOR', 'CODENDOCOR', 'NUMENDOCOR', 'COMPLOCOR', 'CEPOCOR', 'BAIOCOR', 'CODBAIOCOR', 'CODMUNOCOR']\n",
        "\n",
        "for coluna in lista_colunas:\n",
        "  print(f\"Percentage of rows without {coluna} filled:\", round(len(df_obitos[df_obitos[f'{coluna}'].isnull()])/len(df_obitos[f'{coluna}'])*100,2), \"%\")"
      ],
      "execution_count": 8,
      "outputs": [
        {
          "output_type": "stream",
          "text": [
            "Percentage of rows without LOCOCOR filled: 0.0 %\n",
            "Percentage of rows without CODESTAB filled: 19.57 %\n",
            "Percentage of rows without ENDOCOR filled: 20.49 %\n",
            "Percentage of rows without CODENDOCOR filled: 99.98 %\n",
            "Percentage of rows without NUMENDOCOR filled: 20.93 %\n",
            "Percentage of rows without COMPLOCOR filled: 95.59 %\n",
            "Percentage of rows without CEPOCOR filled: 83.69 %\n",
            "Percentage of rows without BAIOCOR filled: 27.87 %\n",
            "Percentage of rows without CODBAIOCOR filled: 88.58 %\n",
            "Percentage of rows without CODMUNOCOR filled: 0.0 %\n"
          ],
          "name": "stdout"
        }
      ]
    },
    {
      "cell_type": "markdown",
      "metadata": {
        "id": "BcfBZvb04vUh"
      },
      "source": [
        "CODMUNOCOR\n",
        "\n",
        "Code of the city. Both 350950 and 3509502 refer to the city of Campinas. As 3509502 is the most uptaded, 350950 was replaced by 3509502.\n",
        "\n",
        "See data from [IBGE](https://www.ibge.gov.br/explica/codigos-dos-municipios.php) (Brazilian Institute of Geography and Statistics) for more information.\n",
        "\n",
        "**Problem:**\n",
        "- 3.72% of the deaths are from cities different of Campinas\n",
        "- Some of the codes refer to cities outside São Paulo\n",
        "\n",
        "At this point, all rows were maintened, but later only rows with code 3509502 were kept."
      ]
    },
    {
      "cell_type": "code",
      "metadata": {
        "id": "M-V_05Hq4bcL",
        "colab": {
          "base_uri": "https://localhost:8080/"
        },
        "outputId": "ba63dcc8-a2bf-459f-9ac2-86b74a22ddd5"
      },
      "source": [
        "df_obitos['CODMUNOCOR'] = df_obitos['CODMUNOCOR'].astype(str)\n",
        "print(\"Percentage of rows with city of occurence different from Campinas (code is not 350950 or 3509502):\", round(len(df_obitos[(df_obitos['CODMUNOCOR']!='350950') & (df_obitos['CODMUNOCOR']!='3509502')])/len(df_obitos['CODMUNOCOR'])*100,2),\"%\")\n",
        "\n",
        "#padronize: only one code for Campinas\n",
        "df_obitos['CODMUNOCOR'] = df_obitos['CODMUNOCOR'].replace('350950','3509502')\n",
        "\n",
        "#possible values for CODMUOCOR\n",
        "print(\"Possible city codes:\", df_obitos['CODMUNOCOR'].unique())"
      ],
      "execution_count": 9,
      "outputs": [
        {
          "output_type": "stream",
          "text": [
            "Percentage of rows with city of occurence different from Campinas (code is not 350950 or 3509502): 3.72 %\n",
            "Possible city codes: ['351530' '355040' '410730' '411007' '354700' '352020' '352360' '350220'\n",
            " '355240' '353180' '350030' '352470' '351410' '353710' '431177' '313440'\n",
            " '351280' '310730' '350790' '355670' '354060' '353650' '355540' '350970'\n",
            " '351040' '351907' '355620' '291920' '352260' '353930' '350410' '354580'\n",
            " '353080' '351050' '410640' '350610' '352050' '352340' '353070' '350330'\n",
            " '3509502' '410430' '315180' '354100' '510760' '354390' '352530' '354980'\n",
            " '350760' '350160' '310670' '350750' '350320' '355410' '353870' '352690'\n",
            " '352900' '431440' '313130' '350550' '410480' '354990' '352590' '354870'\n",
            " '500830' '355220' '354340' '313670' '500330' '500270' '351880' '350000'\n",
            " '520870' '261160' '310620' '355030' '313640' '354210' '355350' '350680'\n",
            " '412785' '310840' '352730' '312020' '353560' '355000' '314990' '354800'\n",
            " '352610' '411940' '351860' '315990' '410960' '353880' '350700' '355450'\n",
            " '314560' '291460' '353760' '350900' '510792' '350190' '353620' '355400'\n",
            " '310350' '410150' '352230' '170700' '352440' '314600' '410140' '316720'\n",
            " '355100' '330455' '354850' '330100' '110020' '420540' '220660' '500200'\n",
            " '240810' '150140' '410690' '351519' '350300' '355560' '310270' '311455'\n",
            " '520390' '352460' '354995' '354940' '313220' '352400' '352620' '261260'\n",
            " '314410' '350270' '293000' '355210' '432150' '354750' '310260' '355070'\n",
            " '312710' '510795' '354970' '410550' '292530' '411990' '351640' '352210'\n",
            " '355710' '353470' '315250' '352390' '411820' '431560' '310830' '351110'\n",
            " '351620' '317010' '350600' '330350' '330330' '355385' '353000' '353120'\n",
            " '350690' '315030' '312510' '352042' '353630' '351100' '350380' '352640'\n",
            " '316370' '355160' '354730' '353110' '354070' '315120' '353050' '353390'\n",
            " '352930' '351630' '310300' '352710' '317070' '314790' '351300' '351060'\n",
            " '354890' '354140' '210530' '170035' '330620' '411370' '354780' '320240'\n",
            " '230440' '351270' '351710' '352380' '410300' '410610' '411720' '355660'\n",
            " '310410' '354560' '353920' '354425' '314320' '353790' '350050' '351080'\n",
            " '350170' '350635' '313510' '354640' '351020' '354220' '317040' '316930'\n",
            " '352670' '354520' '354910' '430300' '350400' '293135' '354880' '291800'\n",
            " '230830' '351870' '521860' '510340' '220310' '353340' '354460' '412390'\n",
            " '350580' '355360' '350290' '352040' '312670' '410110' '314290' '355650'\n",
            " '310860' '150442' '210910' '411150' '317130' '316470' '350450' '310400'\n",
            " '353550' '352220' '313300' '311050' '316860' '353060' '353440' '280030'\n",
            " '500630' '520510' '320340' '410105' '310600' '350060' '351515' '353200'\n",
            " '352350' '353240' '310690' '352180' '250750' '411180' '291810' '313820'\n",
            " '352240' '310160' '352250' '291360' '355250' '311060' '351380' '314330'\n",
            " '350280' '317020' '522185' '520140' '521190' '431490' '315217' '316690'\n",
            " '350540' '352990' '351140' '410315' '355640' '352480' '351550' '420200'\n",
            " '350570' '315920' '351230' '355010' '240800' '500370' '220140' '352940'\n",
            " '270430' '351490' '313110' '314890' '355610' '316680' '313400' '353490'\n",
            " '310200' '261230' '351150' '150506' '350250' '500320' '353130' '355500'\n",
            " '411840' '313060' '410400' '351850' '311570' '412810' '292070' '313710'\n",
            " '351240' '353450' '311860' '352100' '261090' '510390' '313490' '314100'\n",
            " '311270' '315170' '412570' '210467' '290460' '260170' '290540' '352660'\n",
            " '410840' '351840' '352310' '354400' '312230' '351250' '354000' '350470'\n",
            " '170210' '211130' '355060' '352030' '330030' '330070' '530010' '311960'\n",
            " '240485' '411620' '354770' '352840' '110030' '353540' '421480' '350040'\n",
            " '351170' '350920' '351905' '353820' '352520' '352450' '351310' '421130'\n",
            " '320490' '430680' '520450' '521570' '520910' '522108' '311140' '354300'\n",
            " '310490' '315150' '316800' '351670' '351518' '313160' '351700' '330040'\n",
            " '510840' '350230' '354050' '355700' '355170' '522020' '3504107' '3519071'\n",
            " '3520509' '3501905' '3552403' '3550308' '3525904' '3501608' '3556206'\n",
            " '3556701' '3522604' '3146008' '3530706' '3510807' '3523404' '3518800'\n",
            " '3507506' '3531803' '3510500' '3117108' '2500734' '3526704' '3543907'\n",
            " '3550704' '3152501' '3509700' '3510401' '311545' '355630' '351930'\n",
            " '310430' '316740' '354530' '411010' '355380' '351770' '110004' '410830'\n",
            " '420320' '500620' '510642' '292740' '353810' '310375' '291280' '314630'\n",
            " '410250' '352550' '230110' '312610' '421660' '315980' '270030' '311390'\n",
            " '315530' '330630' '500710' '290160']\n"
          ],
          "name": "stdout"
        }
      ]
    },
    {
      "cell_type": "markdown",
      "metadata": {
        "id": "OYCgmYrz5wqg"
      },
      "source": [
        "### Causa\n",
        "CAUSABAS (base cause), LINHAA, LINHAB, LINHAC, LINHAD, LINHAII refer to the death.\n",
        "\n",
        "For more information about this, see the [link](https://portalarquivos2.saude.gov.br/images/pdf/2015/agosto/14/Declaracao-de-Obito-WEB.pdf).\n"
      ]
    },
    {
      "cell_type": "code",
      "metadata": {
        "id": "NG2u2m2L5_Oy",
        "colab": {
          "base_uri": "https://localhost:8080/"
        },
        "outputId": "90e436e6-9ae1-4068-83ca-d4c347457510"
      },
      "source": [
        "lista_colunas = ['CAUSABAS', 'LINHAA', 'LINHAB', 'LINHAC', 'LINHAD', 'LINHAII']\n",
        "\n",
        "for coluna in lista_colunas:\n",
        "  print(f\"Percentage of rows with null {coluna}:\", round(len(df_obitos[df_obitos[f'{coluna}'].isnull()])/len(df_obitos[f'{coluna}'])*100,2),\"%\")"
      ],
      "execution_count": 10,
      "outputs": [
        {
          "output_type": "stream",
          "text": [
            "Percentage of rows with null CAUSABAS: 0.0 %\n",
            "Percentage of rows with null LINHAA: 0.44 %\n",
            "Percentage of rows with null LINHAB: 11.29 %\n",
            "Percentage of rows with null LINHAC: 42.31 %\n",
            "Percentage of rows with null LINHAD: 76.68 %\n",
            "Percentage of rows with null LINHAII: 51.04 %\n"
          ],
          "name": "stdout"
        }
      ]
    },
    {
      "cell_type": "markdown",
      "metadata": {
        "id": "OnoVmE0ez3vX"
      },
      "source": [
        "Remove * from the beggining of strings."
      ]
    },
    {
      "cell_type": "code",
      "metadata": {
        "id": "2mrE3nN9z3Ds"
      },
      "source": [
        "#remove * in the beggining of the str\n",
        "colunas = ['LINHAA', 'LINHAB', 'LINHAC', 'LINHAD', 'LINHAII']\n",
        "for i in colunas:\n",
        "  df_obitos[i] = df_obitos[i].str.replace('*','')"
      ],
      "execution_count": 14,
      "outputs": []
    },
    {
      "cell_type": "markdown",
      "metadata": {
        "id": "Diy2-0kM6vae"
      },
      "source": [
        "### Others\n",
        "\n",
        "Columns refering to the occurence of medical assistence, cirurgy or necropsy; coumns with information about the doctor, atestant and source; columns refering to job accident and circunstance of death.\n",
        "\n",
        "These columns don't have relevant information for the intended analysis."
      ]
    },
    {
      "cell_type": "code",
      "metadata": {
        "id": "j7ivO1AY6yiM",
        "colab": {
          "base_uri": "https://localhost:8080/"
        },
        "outputId": "e3de5843-d841-411b-ccf6-a32e87091a21"
      },
      "source": [
        "lista_colunas = ['ASSISTMED','EXAME','CIRURGIA','NECROPSIA','MEDICO','CRM','ATESTANTE','CONTATO','FONTE','ACIDTRAB','CIRCOBITO']\n",
        "\n",
        "#% of values that aren't null (NaN) in each column\n",
        "for coluna in lista_colunas:\n",
        "  print(f\"{coluna}:\", round(len(df_obitos[~df_obitos[f'{coluna}'].isnull()])/len(df_obitos[f'{coluna}'])*100,2),\"%\")"
      ],
      "execution_count": null,
      "outputs": [
        {
          "output_type": "stream",
          "text": [
            "ASSISTMED: 73.13 %\n",
            "EXAME: 37.17 %\n",
            "CIRURGIA: 36.72 %\n",
            "NECROPSIA: 85.09 %\n",
            "MEDICO: 25.78 %\n",
            "CRM: 99.88 %\n",
            "ATESTANTE: 97.05 %\n",
            "CONTATO: 92.93 %\n",
            "FONTE: 7.57 %\n",
            "ACIDTRAB: 3.34 %\n",
            "CIRCOBITO: 10.36 %\n"
          ],
          "name": "stdout"
        }
      ]
    },
    {
      "cell_type": "markdown",
      "metadata": {
        "id": "TQVujQPSukgp"
      },
      "source": [
        "## Information related to the patient"
      ]
    },
    {
      "cell_type": "markdown",
      "metadata": {
        "id": "d_wWnSHr-dU4"
      },
      "source": [
        "### NUMSUS\n",
        "\n",
        "Number of Brazil's Unified Public Health System (SUS). Each patient should have an unique number. However, few rows have this column filled and many of them have absurd values or values repeated for different patients.\n",
        "\n",
        "It is not a column with trustworthy data.\n",
        "\n"
      ]
    },
    {
      "cell_type": "code",
      "metadata": {
        "id": "zxDAHTGS-MPT",
        "colab": {
          "base_uri": "https://localhost:8080/"
        },
        "outputId": "1fed33cb-2d9b-4441-b281-d5be24615093"
      },
      "source": [
        "#null rows\n",
        "print(\"Percentage of rows with null NUMSUS:\", round((len(df_obitos[~df_obitos['NUMSUS'].isnull()])/len(df_obitos['NUMSUS']))*100,2),\"%\")\n",
        "\n",
        "#duplicated values\n",
        "df2 = df_obitos[(~df_obitos['NUMSUS'].isnull()) & (df_obitos.duplicated(['NUMSUS'],keep=False))]\n",
        "print(\"Number of rows with duplicated NUMSUS:\",len(df2))"
      ],
      "execution_count": 11,
      "outputs": [
        {
          "output_type": "stream",
          "text": [
            "Percentage of rows with null NUMSUS: 3.72 %\n",
            "Number of rows with duplicated NUMSUS: 21\n"
          ],
          "name": "stdout"
        }
      ]
    },
    {
      "cell_type": "markdown",
      "metadata": {
        "id": "X08mdold6NQQ"
      },
      "source": [
        "### NATURAL\n",
        "\n",
        "Citizenship according to the table of countries. Brazilian citizenship is characterized by the first digit 8 and the [code of UF](https://www.oobj.com.br/bc/article/quais-os-c%C3%B3digos-de-cada-uf-no-brasil-465.html).\n",
        "\n",
        "The code for the state of São Paulo would be 835.\n",
        "\n",
        "This column is not filled in many rows.\n"
      ]
    },
    {
      "cell_type": "code",
      "metadata": {
        "id": "X3mkw7mQwt4-",
        "colab": {
          "base_uri": "https://localhost:8080/"
        },
        "outputId": "a5e73df8-7089-4b55-b27c-dd2a04d46a88"
      },
      "source": [
        "print(\"Possible citizenships:\",df_obitos['NATURAL'].unique())\n",
        "print('\\n')\n",
        "\n",
        "#null values\n",
        "pct_fill = len(df_obitos[~df_obitos['NATURAL'].isnull()])/len(df_obitos['NATURAL'])\n",
        "print(\"Percentage of filled rows:\", round(pct_fill*100, 2), \"%\")\n",
        "      \n",
        "#from SP ('835')\n",
        "df_obitos['NATURAL'] = df_obitos['NATURAL'].astype(str)\n",
        "pct_sp = len(df_obitos[df_obitos['NATURAL'].str.contains('835')])/len(df_obitos['NATURAL'])\n",
        "print(\"Percentage of rows from outside SP:\", round(pct_sp*100, 2), \"%\")"
      ],
      "execution_count": 12,
      "outputs": [
        {
          "output_type": "stream",
          "text": [
            "Possible citizenships: [ nan 835. 841. 822. 826. 831. 800. 829. 190. 842. 821. 833. 851. 828.\n",
            " 823.  52. 850.  53. 125.  16. 832.  77. 852. 815. 827. 824.  78. 825.\n",
            " 843.  87. 999. 127. 249. 266.   8. 225. 134.  37. 811.   4. 199. 119.\n",
            " 184. 110. 186. 813.  58.  27. 114.  20.  10. 201. 188. 135. 812.  33.\n",
            " 171.  82.  99. 853. 816. 218.  72.  66. 117. 817.  63. 139. 814.  62.\n",
            "  35.  39. 268. 224. 159. 120. 275.  68.  81. 152. 137. 103. 269. 265.\n",
            " 118. 182.  19. 161. 156.   2. 157. 107. 193. 226. 109. 181.  41.  79.\n",
            " 253. 259.  92.  45. 271.  44.  75. 126. 124.  86. 141.  94.  49. 258.\n",
            "  85.  98. 244. 232.  76. 245. 129.  31.   1.  65.  80.  84.  83.  97.\n",
            "  71. 170.  60.   0.  13.  90.  70.  73.  11.  74. 121.]\n",
            "\n",
            "\n",
            "Percentage of filled rows: 53.54 %\n",
            "Percentage of rows from outside SP: 34.48 %\n"
          ],
          "name": "stdout"
        }
      ]
    },
    {
      "cell_type": "markdown",
      "metadata": {
        "id": "Wk_WCwEy_kQz"
      },
      "source": [
        "### NOMES\n",
        "\n",
        "THe database has the variables NOME (name), NOMEPAI (father's name) and NOMEMÃE (mother's name). All of them have a low percentage of null values or are filled with  'IGNORADO'(ignored) or 'DESCONHECIDO'(unknown).\n",
        "\n",
        "**Problems:**\n",
        "- Same name and parents name but different death dates\n",
        "- Same name and parents name but different birthdates\n",
        "\n",
        "**Solutions:**\n",
        "- These rows were discarded (21 rows in )"
      ]
    },
    {
      "cell_type": "code",
      "metadata": {
        "id": "itTF8S_p_1v6",
        "colab": {
          "base_uri": "https://localhost:8080/"
        },
        "outputId": "33b5c0dd-aa38-48f7-efbe-4d734fe9affa"
      },
      "source": [
        "#null rows\n",
        "print(\"Percentage of rows without name:\", round((len(df_obitos[df_obitos['NOME'].isnull()])/len(df_obitos['NOME']))*100,2))\n",
        "print(\"Percentage of rows with name as ignored or unknown:\",round(len(df_obitos[(df_obitos['NOME']=='IGNORADO') | (df_obitos['NOME']=='DESCONHECIDO')])/len(df_obitos['NOME'])*100,2),\"%\")\n",
        "print(\"Percentage of rows without father's name (NaN, ignored, unknown):\", round(len(df_obitos[(df_obitos['NOMEPAI'].isnull()) | (df_obitos['NOMEPAI']=='IGNORADO') | (df_obitos['NOMEPAI']=='DESCONHECIDO')])/len(df_obitos['NOMEPAI'])*100,2),\"%\")\n",
        "print(\"Percentage of rows without mothers's name (NaN, ignored, unknown):\", round(len(df_obitos[(df_obitos['NOMEMAE'].isnull()) | (df_obitos['NOMEMAE']=='IGNORADO') | (df_obitos['NOMEMAE']=='DESCONHECIDO')])/len(df_obitos['NOMEMAE'])*100,2),\"%\")\n",
        "\n",
        "#duplicated -> create a auxiliar dataframe\n",
        "df2 = df_obitos[(~df_obitos['NOME'].str.contains('IGNORADO')) & (~df_obitos['NOME'].str.contains('DESCONHECIDO')) & (df_obitos.duplicated(['NOME','NOMEPAI','NOMEMAE'],keep=False))].sort_values('NOME')\n",
        "\n",
        "#drop duplicated\n",
        "comparison_df = df_obitos.merge(df2, indicator=True, how='outer')\n",
        "df_obitos = comparison_df[comparison_df['_merge'] == 'left_only']\n",
        "del df_obitos['_merge']"
      ],
      "execution_count": 15,
      "outputs": [
        {
          "output_type": "stream",
          "text": [
            "Percentage of rows without name: 0.0\n",
            "Percentage of rows with name as ignored or unknown: 0.02 %\n",
            "Percentage of rows without father's name (NaN, ignored, unknown): 5.31 %\n",
            "Percentage of rows without mothers's name (NaN, ignored, unknown): 0.17 %\n"
          ],
          "name": "stdout"
        }
      ]
    },
    {
      "cell_type": "markdown",
      "metadata": {
        "id": "6K7hxjj_etNo"
      },
      "source": [
        "### DATNASC e IDADE\n",
        "\n",
        "Birthdate was in the ddmmyyyy format. It was converted %Y-%m-%d.\n",
        "\n",
        "Age: \n",
        "- Beggining in 0, second subfield in minutes (020 = 20 minutes)\n",
        "- Beggining in 1, second subfield in hours (102 = 2 hours)\n",
        "- Beggining in 2, second subfield in days (201 = 1 day)\n",
        "- Beggining in 3, second subfield in months (301 = 1 month)\n",
        "- Beggining in 4, second subfield in years (409 = 9 years)\n",
        "- Beggining in 5, second subfield in more tha 100 years (506 = 106 years)\n",
        "\n",
        "The columns refering to child deaths (less than one year) were dropped. This columns are the one with age less than 400.\n",
        "\n",
        "If the filed started with 4, the two following digits were kept. If it started with 5, the 5 was replaced by 1.\n",
        "\n",
        "**Problems:**\n",
        "- Rows without age or birthdate will disturb stratified analysis\n",
        "- By recalculating the age as (date of death - birthdate), incorrect values were found\n",
        "- Incorrect values for the birthdate\n",
        "\n",
        "**Solution:** (in order to have a higher quality of data)\n",
        "- Rows without birthdate were discarded (807 rows) and the age was reclaculated from the birthdate and date of death \n",
        "- Rows with birthdate equal to date of death were discarded (4 rows) \n"
      ]
    },
    {
      "cell_type": "code",
      "metadata": {
        "id": "tlLwpzKhaIMp",
        "colab": {
          "base_uri": "https://localhost:8080/"
        },
        "outputId": "de156596-7201-4cf6-b75c-8d27ae3206a7"
      },
      "source": [
        "#check for null rows\n",
        "print(\"Number of rows without birthdate:\", len(df_obitos[df_obitos['DTNASC'].isnull()]))\n",
        "print(\"Number of rows without age:\", len(df_obitos[df_obitos['IDADE'].isnull()]))\n",
        "print(\"Number of rows without birthdate and age:\",len(df_obitos[(df_obitos['IDADE'].isnull()) & (df_obitos['DTNASC'].isnull())]))\n",
        "\n",
        "#drop rows without birthdate\n",
        "df_obitos = df_obitos[~df_obitos['DTNASC'].isnull()]\n",
        "\n",
        "# date to '%Y-%m-%d' format\n",
        "df_obitos['DTNASC'] = df_obitos['DTNASC'].astype(str)\n",
        "df_obitos['DTNASC'] = df_obitos['DTNASC'].map(lambda s: s[0:7] if len(s)==9 else s[0:8]) #remove the .0 at the end of the str\n",
        "df_obitos['DTNASC'] = df_obitos['DTNASC'].map(lambda s: \"0\" + s if len(s)==7 else s) #add 0 if str has only 7 digits\n",
        "df_obitos.loc[:,'DTNASC'] = pd.to_datetime(df_obitos.loc[:,'DTNASC'],format = '%d%m%Y',errors='coerce').dt.strftime('%Y-%m-%d')"
      ],
      "execution_count": 16,
      "outputs": [
        {
          "output_type": "stream",
          "text": [
            "Number of rows without birthdate: 807\n",
            "Number of rows without age: 43\n",
            "Number of rows without birthdate and age: 43\n"
          ],
          "name": "stdout"
        }
      ]
    },
    {
      "cell_type": "code",
      "metadata": {
        "id": "Gxkfe0TziQyJ",
        "colab": {
          "base_uri": "https://localhost:8080/"
        },
        "outputId": "186baa86-9032-468f-9e53-fc4cadb5193d"
      },
      "source": [
        "#drop rows with age less than 1 year\n",
        "print(\"Number of rows with age less than 1 year:\", len(df_obitos[df_obitos['IDADE']<=400]))\n",
        "df_obitos = df_obitos[df_obitos['IDADE']>400]\n",
        "\n",
        "#drop 4 for str beggining in 4, replace 5 by 1 in strings beginning in 5\n",
        "df_obitos.loc[:,'IDADE'] = df_obitos.loc[:,'IDADE'].astype(str)\n",
        "df_obitos.loc[:,'IDADE'] = df_obitos.loc[:,'IDADE'].map(lambda s: \"{}\".format(s[1:3]) if s[0] == \"4\" else \"1{}\".format(s[1:3]))\n",
        "df_obitos.loc[:,'IDADE'] = df_obitos.loc[:,'IDADE'].astype(int)"
      ],
      "execution_count": 17,
      "outputs": [
        {
          "output_type": "stream",
          "text": [
            "Number of rows with age less than 1 year: 5474\n"
          ],
          "name": "stdout"
        }
      ]
    },
    {
      "cell_type": "code",
      "metadata": {
        "id": "EJbDRLA-hDwk",
        "colab": {
          "base_uri": "https://localhost:8080/",
          "height": 419
        },
        "outputId": "f930fdfd-ec6c-44d7-c6b4-f7d50287510c"
      },
      "source": [
        "#create df_aux\n",
        "df_aux = df_obitos.loc[:,['NOME','DTOBITO','DTNASC','IDADE']]\n",
        "df_aux['DTOBITO'] = pd.to_datetime(df_aux['DTOBITO'])\n",
        "df_aux['DTNASC'] = pd.to_datetime(df_aux['DTNASC'])\n",
        "\n",
        "#recalculate age as date request - birthdate\n",
        "df_aux.loc[:,'IDADE2'] = df_aux.loc[:,'DTOBITO'] - df_aux.loc[:,'DTNASC']\n",
        "df_aux.loc[:,'IDADE2'] = df_aux.loc[:,'IDADE2'].dt.days\n",
        "df_aux.loc[:,'IDADE2'] = df_aux.loc[:,'IDADE2']//365.25 #convert days into years\n",
        "\n",
        "#compare age from dataframe with age recalculated\n",
        "df_aux.loc[:,'DIF'] = df_aux.loc[:,'IDADE'] - df_aux.loc[:,'IDADE2']\n",
        "df2 = df_aux[(~df_aux['DIF'].isnull()) & (df_aux['DIF']!=0)].sort_values('DIF') # difference between those values\n",
        "df2[['IDADE','IDADE2','DIF']]"
      ],
      "execution_count": 18,
      "outputs": [
        {
          "output_type": "execute_result",
          "data": {
            "text/html": [
              "<div>\n",
              "<style scoped>\n",
              "    .dataframe tbody tr th:only-of-type {\n",
              "        vertical-align: middle;\n",
              "    }\n",
              "\n",
              "    .dataframe tbody tr th {\n",
              "        vertical-align: top;\n",
              "    }\n",
              "\n",
              "    .dataframe thead th {\n",
              "        text-align: right;\n",
              "    }\n",
              "</style>\n",
              "<table border=\"1\" class=\"dataframe\">\n",
              "  <thead>\n",
              "    <tr style=\"text-align: right;\">\n",
              "      <th></th>\n",
              "      <th>IDADE</th>\n",
              "      <th>IDADE2</th>\n",
              "      <th>DIF</th>\n",
              "    </tr>\n",
              "  </thead>\n",
              "  <tbody>\n",
              "    <tr>\n",
              "      <th>23</th>\n",
              "      <td>14</td>\n",
              "      <td>13</td>\n",
              "      <td>1</td>\n",
              "    </tr>\n",
              "    <tr>\n",
              "      <th>102303</th>\n",
              "      <td>19</td>\n",
              "      <td>18</td>\n",
              "      <td>1</td>\n",
              "    </tr>\n",
              "    <tr>\n",
              "      <th>102894</th>\n",
              "      <td>79</td>\n",
              "      <td>78</td>\n",
              "      <td>1</td>\n",
              "    </tr>\n",
              "    <tr>\n",
              "      <th>103083</th>\n",
              "      <td>59</td>\n",
              "      <td>58</td>\n",
              "      <td>1</td>\n",
              "    </tr>\n",
              "    <tr>\n",
              "      <th>103339</th>\n",
              "      <td>39</td>\n",
              "      <td>38</td>\n",
              "      <td>1</td>\n",
              "    </tr>\n",
              "    <tr>\n",
              "      <th>...</th>\n",
              "      <td>...</td>\n",
              "      <td>...</td>\n",
              "      <td>...</td>\n",
              "    </tr>\n",
              "    <tr>\n",
              "      <th>168708</th>\n",
              "      <td>54</td>\n",
              "      <td>53</td>\n",
              "      <td>1</td>\n",
              "    </tr>\n",
              "    <tr>\n",
              "      <th>130484</th>\n",
              "      <td>36</td>\n",
              "      <td>0</td>\n",
              "      <td>36</td>\n",
              "    </tr>\n",
              "    <tr>\n",
              "      <th>146090</th>\n",
              "      <td>46</td>\n",
              "      <td>0</td>\n",
              "      <td>46</td>\n",
              "    </tr>\n",
              "    <tr>\n",
              "      <th>126420</th>\n",
              "      <td>75</td>\n",
              "      <td>0</td>\n",
              "      <td>75</td>\n",
              "    </tr>\n",
              "    <tr>\n",
              "      <th>134990</th>\n",
              "      <td>89</td>\n",
              "      <td>0</td>\n",
              "      <td>89</td>\n",
              "    </tr>\n",
              "  </tbody>\n",
              "</table>\n",
              "<p>177 rows × 3 columns</p>\n",
              "</div>"
            ],
            "text/plain": [
              "        IDADE  IDADE2  DIF\n",
              "23         14      13    1\n",
              "102303     19      18    1\n",
              "102894     79      78    1\n",
              "103083     59      58    1\n",
              "103339     39      38    1\n",
              "...       ...     ...  ...\n",
              "168708     54      53    1\n",
              "130484     36       0   36\n",
              "146090     46       0   46\n",
              "126420     75       0   75\n",
              "134990     89       0   89\n",
              "\n",
              "[177 rows x 3 columns]"
            ]
          },
          "metadata": {
            "tags": []
          },
          "execution_count": 18
        }
      ]
    },
    {
      "cell_type": "code",
      "metadata": {
        "id": "Bcp_En46uxsv"
      },
      "source": [
        "#recalculate age as date request - birthdate\n",
        "df_obitos['DTOBITO'] = pd.to_datetime(df_obitos['DTOBITO'])\n",
        "df_obitos['DTNASC'] = pd.to_datetime(df_obitos['DTNASC'])\n",
        "df_obitos.loc[:,'IDADE'] = df_obitos.loc[:,'DTOBITO'] - df_obitos.loc[:,'DTNASC']\n",
        "df_obitos.loc[:,'IDADE'] = df_obitos.loc[:,'IDADE'].dt.days\n",
        "df_obitos.loc[:,'IDADE'] = df_obitos.loc[:,'IDADE']//365.25 #convert days into years"
      ],
      "execution_count": 19,
      "outputs": []
    },
    {
      "cell_type": "code",
      "metadata": {
        "id": "XuUojysXuYep",
        "colab": {
          "base_uri": "https://localhost:8080/"
        },
        "outputId": "ee6c1168-4fd5-4c18-8962-3eb535c54ad8"
      },
      "source": [
        "#drop columns with same datebirth and date of death\n",
        "print(\"Number of rows with birthdate equal to date of death:\", len(df_obitos[df_obitos['DTOBITO']==df_obitos['DTNASC']]))\n",
        "df_obitos = df_obitos[df_obitos['DTOBITO']!=df_obitos['DTNASC']]"
      ],
      "execution_count": 20,
      "outputs": [
        {
          "output_type": "stream",
          "text": [
            "Number of rows with birthdate equal to date of death: 4\n"
          ],
          "name": "stdout"
        }
      ]
    },
    {
      "cell_type": "markdown",
      "metadata": {
        "id": "BMraPI0WrP8d"
      },
      "source": [
        "### SEXO\n",
        "\n",
        "Drop rows with sex as ignored."
      ]
    },
    {
      "cell_type": "code",
      "metadata": {
        "id": "y9_gKfJsrRF8",
        "colab": {
          "base_uri": "https://localhost:8080/"
        },
        "outputId": "195bbf83-61ce-41e6-cec5-9c7d2abcc1ba"
      },
      "source": [
        "#check for null rows\n",
        "#print(len(df_obitos[df_obitos['SEXO'].isnull()]))\n",
        "\n",
        "# drop rows with sex as 'I'\n",
        "print(\"Number of rows with sex as 'I':\",len(df_obitos[df_obitos['SEXO']=='I']))\n",
        "df_obitos = df_obitos[df_obitos['SEXO']!='I']"
      ],
      "execution_count": 21,
      "outputs": [
        {
          "output_type": "stream",
          "text": [
            "Number of rows with sex as 'I': 1\n"
          ],
          "name": "stdout"
        }
      ]
    },
    {
      "cell_type": "markdown",
      "metadata": {
        "id": "szNCV0uZr4Qt"
      },
      "source": [
        "### RACACOR\n",
        "\n",
        "Ethnicity:\n",
        "- 1:white, \n",
        "- 2:black, \n",
        "- 3:yellow, \n",
        "- 4:brown, \n",
        "- 5:indian\n"
      ]
    },
    {
      "cell_type": "code",
      "metadata": {
        "id": "BKBNwM3_r3lQ",
        "colab": {
          "base_uri": "https://localhost:8080/"
        },
        "outputId": "2761d775-45f0-40c7-f970-c60a836ac2de"
      },
      "source": [
        "print(\"Percentage of rows without ethnicity:\",round(len(df_obitos[df_obitos['RACACOR'].isnull()])/len(df_obitos['RACACOR'])*100,2),\"%\")"
      ],
      "execution_count": 22,
      "outputs": [
        {
          "output_type": "stream",
          "text": [
            "Percentage of rows without ethnicity: 1.98 %\n"
          ],
          "name": "stdout"
        }
      ]
    },
    {
      "cell_type": "markdown",
      "metadata": {
        "id": "pY-p6tnI0hfk"
      },
      "source": [
        "### Address\n",
        "\n",
        "ENDRES, CODENDRES, NUMRES, COMPLRES, CEPRES, BAIRES, CODBAIRES, CODMUNRES refer to the address.\n"
      ]
    },
    {
      "cell_type": "code",
      "metadata": {
        "id": "HiRDfv4q1J-8",
        "colab": {
          "base_uri": "https://localhost:8080/"
        },
        "outputId": "c63a1182-a441-4050-8dc4-b274210b2fc3"
      },
      "source": [
        "lista_colunas = ['ENDRES', 'CODENDRES', 'NUMRES', 'COMPLRES', 'CEPRES', 'BAIRES', 'CODBAIRES', 'CODMUNRES']\n",
        "\n",
        "for coluna in lista_colunas:\n",
        "  print(f\"Percetage of rows without {coluna}:\", round(len(df_obitos[df_obitos[f'{coluna}'].isnull()])/len(df_obitos[f'{coluna}'])*100,2),\"%\")"
      ],
      "execution_count": 23,
      "outputs": [
        {
          "output_type": "stream",
          "text": [
            "Percetage of rows without ENDRES: 0.11 %\n",
            "Percetage of rows without CODENDRES: 99.97 %\n",
            "Percetage of rows without NUMRES: 1.22 %\n",
            "Percetage of rows without COMPLRES: 1.45 %\n",
            "Percetage of rows without CEPRES: 58.31 %\n",
            "Percetage of rows without BAIRES: 22.42 %\n",
            "Percetage of rows without CODBAIRES: 23.43 %\n",
            "Percetage of rows without CODMUNRES: 0.0 %\n"
          ],
          "name": "stdout"
        }
      ]
    },
    {
      "cell_type": "markdown",
      "metadata": {
        "id": "Awi0OBWl29tY"
      },
      "source": [
        "CODMUNRES\n",
        "\n",
        "City of residence.\n",
        "\n",
        "Code of the city of Campinas was padronized as 3509502 (same of what was done for the city of occurence).\n",
        "\n",
        "Almost 23.64% of the people in the database has a city of residence different from Campinas (which not necessarily mean they did not live in Campinas.)\n"
      ]
    },
    {
      "cell_type": "code",
      "metadata": {
        "id": "jziyte2f28m-",
        "colab": {
          "base_uri": "https://localhost:8080/"
        },
        "outputId": "9680f70d-d0e4-40ef-eb95-6ad71f4b0e16"
      },
      "source": [
        "df_obitos['CODMUNRES'] = df_obitos['CODMUNRES'].astype(str)\n",
        "print(\"Percentage of rows with city of residence different from Campinas(350950 or 3509502):\", round(len(df_obitos[(df_obitos['CODMUNRES']!='350950')&(df_obitos['CODMUNRES']!='3509502')])/len(df_obitos['CODMUNRES'])*100,2),\"%\")\n",
        "\n",
        "#padronize: only one code for Campinas\n",
        "df_obitos['CODMUNRES'] = df_obitos['CODMUNRES'].replace('350950','3509502')"
      ],
      "execution_count": 24,
      "outputs": [
        {
          "output_type": "stream",
          "text": [
            "Percentage of rows with city of residence different from Campinas(350950 or 3509502): 23.38 %\n"
          ],
          "name": "stdout"
        }
      ]
    },
    {
      "cell_type": "markdown",
      "metadata": {
        "id": "6-iWa6r8MRC-"
      },
      "source": [
        "## Drop columns\n",
        "\n",
        "Drop columns that are not relevant for the intended analysis."
      ]
    },
    {
      "cell_type": "code",
      "metadata": {
        "id": "dmi43wYB9u2_"
      },
      "source": [
        "#refering to fetal ou child deaths\n",
        "df_obitos = df_obitos.drop(columns = {'IDADEMAE','ESCMAE','OCUPMAE','QTDFILVIVO',\n",
        "                                      'QTDFILMORT','GRAVIDEZ','GESTACAO','PARTO',\n",
        "                                      'OBITOPARTO','PESO','ESCMAE2010',\t'SERIESCMAE',\n",
        "                                      'SEMAGESTAC','TIPOBITO','NUMERODN'})\n",
        "\n",
        "#refering to the place of death (kept only the code of the city)\n",
        "df_obitos = df_obitos.drop(columns = {'LOCOCOR', 'CODESTAB', 'ENDOCOR', 'CODENDOCOR',\n",
        "                                      'NUMENDOCOR', 'COMPLOCOR', 'CEPOCOR', 'BAIOCOR', \n",
        "                                      'CODBAIOCOR','CODESTOCOR','CODREGOCOR',\t'CODDISOCOR'})\n",
        "\n",
        "#refering to the place of residence (kept only the code of the city and the neighborhood)\n",
        "df_obitos = df_obitos.drop(columns = {'ENDRES', 'CODENDRES', 'NUMRES', 'CEPRES',\n",
        "                                      'BAIRES', 'CODBAIRES','CODDISRES','CODPAISRES',\n",
        "                                      'CODESTRES','CODREGRES'})\n",
        "\n",
        "#medical information\n",
        "df_obitos = df_obitos.drop(columns = {'ASSISTMED','EXAME','CIRURGIA','NECROPSIA','MEDICO','CRM',\n",
        "                                      'ATESTANTE','CONTATO','FONTE','ACIDTRAB','CIRCOBITO','REGRA'})\n",
        "\n",
        "#nunsus and natural (low pct of filled rows and non confiable info)\n",
        "df_obitos = df_obitos.drop(columns = {'NUMSUS','NATURAL'})\n",
        "\n",
        "#names, birthdate, and numerodo (confidentiality)\n",
        "df_obitos = df_obitos.drop(columns = {'NOME','NOMEPAI','NOMEMAE','DTNASC','NUMERODO'})\n",
        "\n",
        "#other\n",
        "df_obitos = df_obitos.drop(columns = {'ESTCIV','ESC','OCUP','ESC2010','OBITOGRAV','DTATESTADO',\n",
        "                                      'ENDACID',\t'DESCACID', 'CODENDACID',\t'NUMENDACID',\t'COMPLACID',\n",
        "                                      'CEPACID','OBITOPUERP'})"
      ],
      "execution_count": 25,
      "outputs": []
    },
    {
      "cell_type": "markdown",
      "metadata": {
        "id": "dWNgOnC8C3v_"
      },
      "source": [
        "## Year and city\n",
        "\n",
        "Keep data only from city of occurence as Campinas and from 2001 and foward (drop data from 2000)."
      ]
    },
    {
      "cell_type": "code",
      "metadata": {
        "id": "TMJq1cFyDLlz"
      },
      "source": [
        "#city of occurence as Campinas\n",
        "df_obitos = df_obitos[df_obitos['CODMUNOCOR']=='3509502']\n",
        "\n",
        "#from 2001 foward\n",
        "df_obitos = df_obitos[df_obitos['DTOBITO']>='2001-01-01']"
      ],
      "execution_count": 26,
      "outputs": []
    },
    {
      "cell_type": "code",
      "metadata": {
        "id": "jJlzyxdmSsKW"
      },
      "source": [
        "#Save data\n",
        "df_obitos.to_csv('obitos_completo.csv')"
      ],
      "execution_count": null,
      "outputs": []
    },
    {
      "cell_type": "markdown",
      "metadata": {
        "id": "t37kJ250okdD"
      },
      "source": [
        "## Cirulatory\n",
        "\n",
        "Circulatory deaths were considered as the ones with one of the columns: CAUSABAS, LINHAA, LINHAB, LINHAC, LINHAD refering to an circulatory ICD (I00-I99)."
      ]
    },
    {
      "cell_type": "code",
      "metadata": {
        "id": "pto2k1ivolvb"
      },
      "source": [
        "#when one of the causes of death has a circulatory cid\n",
        "df_circ = df_obitos[(df_obitos['CAUSABAS'].str.contains('I')) | (df_obitos['LINHAA'].str.contains('I')) | (df_obitos['LINHAB'].str.contains('I')) | (df_obitos['LINHAC'].str.contains('I')) | (df_obitos['LINHAD'].str.contains('I'))]"
      ],
      "execution_count": 27,
      "outputs": []
    },
    {
      "cell_type": "markdown",
      "metadata": {
        "id": "y7zf8cx70ZfT"
      },
      "source": [
        "Column to indicate which ICD resulted in the classification as circualtory (priority order was CAUSABAS, LINHAD, LINHAC, LINHAB, LINHAA)."
      ]
    },
    {
      "cell_type": "code",
      "metadata": {
        "id": "xPM_Xb6_0Nb7"
      },
      "source": [
        "conditions = [(df_circ['CAUSABAS'].str.contains('I',na=False)), (df_circ['LINHAD'].str.contains('I',na=False)),\n",
        "              (df_circ['LINHAC'].str.contains('I',na=False)), (df_circ['LINHAB'].str.contains('I',na=False)),\n",
        "              (df_circ['LINHAA'].str.contains('I',na=False))]\n",
        "\n",
        "choices = [df_circ['CAUSABAS'], df_circ['LINHAD'], df_circ['LINHAC'],df_circ['LINHAB'],df_circ['LINHAA']]\n",
        "df_circ['CID'] = np.select(conditions, choices)"
      ],
      "execution_count": 28,
      "outputs": []
    },
    {
      "cell_type": "code",
      "metadata": {
        "id": "LSD1J6kE3JN3"
      },
      "source": [
        "#Save data\n",
        "df_circ.to_csv('obitos_circulatorio.csv')"
      ],
      "execution_count": null,
      "outputs": []
    },
    {
      "cell_type": "markdown",
      "metadata": {
        "id": "4rCMEnD6GATR"
      },
      "source": [
        "## Respiratory\n",
        "\n",
        "Respiratory deaths were considered as the ones with one of the columns: CAUSABAS, LINHAA, LINHAB, LINHAC, LINHAD refering to an circulatory ICD (J00-J99)."
      ]
    },
    {
      "cell_type": "code",
      "metadata": {
        "id": "mrPbKGsmGATT"
      },
      "source": [
        "#when one of the causes of death has a respiratory cid\n",
        "df_resp = df_obitos[(df_obitos['CAUSABAS'].str.contains('J')) | (df_obitos['LINHAA'].str.contains('J')) | (df_obitos['LINHAB'].str.contains('J')) | (df_obitos['LINHAC'].str.contains('J')) | (df_obitos['LINHAD'].str.contains('J'))]"
      ],
      "execution_count": 29,
      "outputs": []
    },
    {
      "cell_type": "markdown",
      "metadata": {
        "id": "b8lltGz_GATY"
      },
      "source": [
        "Column to indicate which ICD resulted in the classification as circualtory (priority order was CAUSABAS, LINHAD, LINHAC, LINHAB, LINHAA)."
      ]
    },
    {
      "cell_type": "code",
      "metadata": {
        "id": "jCR7-3uIGATY"
      },
      "source": [
        "conditions = [(df_resp['CAUSABAS'].str.contains('J',na=False)), (df_resp['LINHAD'].str.contains('J',na=False)),\n",
        "              (df_resp['LINHAC'].str.contains('J',na=False)), (df_resp['LINHAB'].str.contains('J',na=False)),\n",
        "              (df_resp['LINHAA'].str.contains('J',na=False))]\n",
        "\n",
        "choices = [df_resp['CAUSABAS'], df_resp['LINHAD'], df_resp['LINHAC'],df_resp['LINHAB'],df_resp['LINHAA']]\n",
        "df_resp['CID'] = np.select(conditions, choices)"
      ],
      "execution_count": 30,
      "outputs": []
    },
    {
      "cell_type": "code",
      "metadata": {
        "id": "0_bKVeFIGATe"
      },
      "source": [
        "# Save data\n",
        "df_resp.to_csv('obitos_respiratorio.csv')"
      ],
      "execution_count": null,
      "outputs": []
    }
  ]
}